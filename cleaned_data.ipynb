{
 "cells": [
  {
   "cell_type": "code",
   "execution_count": 27,
   "metadata": {},
   "outputs": [],
   "source": [
    "import matplotlib.pyplot as plt\n",
    "import pandas as pd\n",
    "import numpy as np\n",
    "import requests\n",
    "import time\n",
    "from matplotlib import cm\n",
    "import matplotlib.patches as mpatches\n",
    "import seaborn as sns\n",
    "import difflib\n",
    "%matplotlib inline"
   ]
  },
  {
   "cell_type": "code",
   "execution_count": null,
   "metadata": {},
   "outputs": [],
   "source": []
  },
  {
   "cell_type": "code",
   "execution_count": 2,
   "metadata": {},
   "outputs": [
    {
     "data": {
      "text/html": [
       "<div>\n",
       "<style scoped>\n",
       "    .dataframe tbody tr th:only-of-type {\n",
       "        vertical-align: middle;\n",
       "    }\n",
       "\n",
       "    .dataframe tbody tr th {\n",
       "        vertical-align: top;\n",
       "    }\n",
       "\n",
       "    .dataframe thead th {\n",
       "        text-align: right;\n",
       "    }\n",
       "</style>\n",
       "<table border=\"1\" class=\"dataframe\">\n",
       "  <thead>\n",
       "    <tr style=\"text-align: right;\">\n",
       "      <th></th>\n",
       "      <th>Case Number</th>\n",
       "      <th>Date</th>\n",
       "      <th>Year</th>\n",
       "      <th>Type</th>\n",
       "      <th>Country</th>\n",
       "      <th>Area</th>\n",
       "      <th>Location</th>\n",
       "      <th>Activity</th>\n",
       "      <th>Name</th>\n",
       "      <th>Sex</th>\n",
       "      <th>...</th>\n",
       "      <th>Species</th>\n",
       "      <th>Investigator or Source</th>\n",
       "      <th>pdf</th>\n",
       "      <th>href formula</th>\n",
       "      <th>href</th>\n",
       "      <th>Case Number.1</th>\n",
       "      <th>Case Number.2</th>\n",
       "      <th>original order</th>\n",
       "      <th>Unnamed: 22</th>\n",
       "      <th>Unnamed: 23</th>\n",
       "    </tr>\n",
       "  </thead>\n",
       "  <tbody>\n",
       "    <tr>\n",
       "      <th>0</th>\n",
       "      <td>2019.12.30</td>\n",
       "      <td>30-Dec-19</td>\n",
       "      <td>2019.0</td>\n",
       "      <td>Unprovoked</td>\n",
       "      <td>AUSTRALIA</td>\n",
       "      <td>Queensland</td>\n",
       "      <td>North West Island</td>\n",
       "      <td>Swimming</td>\n",
       "      <td>male</td>\n",
       "      <td>M</td>\n",
       "      <td>...</td>\n",
       "      <td>Shovelnose \"shark\" which is a ray, not a shark)</td>\n",
       "      <td>B. Myatt, GSAF</td>\n",
       "      <td>2019.12.30-Queensland.pdf</td>\n",
       "      <td>http://sharkattackfile.net/spreadsheets/pdf_di...</td>\n",
       "      <td>http://sharkattackfile.net/spreadsheets/pdf_di...</td>\n",
       "      <td>2019.12.30</td>\n",
       "      <td>2019.12.30</td>\n",
       "      <td>6492</td>\n",
       "      <td>NaN</td>\n",
       "      <td>NaN</td>\n",
       "    </tr>\n",
       "    <tr>\n",
       "      <th>1</th>\n",
       "      <td>2019.12.28</td>\n",
       "      <td>28-Dec-19</td>\n",
       "      <td>2019.0</td>\n",
       "      <td>Unprovoked</td>\n",
       "      <td>SEYCHELLES</td>\n",
       "      <td>Praslin</td>\n",
       "      <td>AmitiÃ© Beach</td>\n",
       "      <td>Swimming</td>\n",
       "      <td>female</td>\n",
       "      <td>F</td>\n",
       "      <td>...</td>\n",
       "      <td>NaN</td>\n",
       "      <td>Seychelles News Agency</td>\n",
       "      <td>2019.12.28-Seychelles.pdf</td>\n",
       "      <td>http://sharkattackfile.net/spreadsheets/pdf_di...</td>\n",
       "      <td>http://sharkattackfile.net/spreadsheets/pdf_di...</td>\n",
       "      <td>2019.12.28</td>\n",
       "      <td>2019.12.28</td>\n",
       "      <td>6491</td>\n",
       "      <td>NaN</td>\n",
       "      <td>NaN</td>\n",
       "    </tr>\n",
       "    <tr>\n",
       "      <th>2</th>\n",
       "      <td>2019.12.26</td>\n",
       "      <td>26-Dec-19</td>\n",
       "      <td>2019.0</td>\n",
       "      <td>Unprovoked</td>\n",
       "      <td>SOUTH AFRICA</td>\n",
       "      <td>Eastern Cape Province</td>\n",
       "      <td>Nahoon Beach, East London</td>\n",
       "      <td>Surf skiing</td>\n",
       "      <td>Roger Swinney</td>\n",
       "      <td>M</td>\n",
       "      <td>...</td>\n",
       "      <td>NaN</td>\n",
       "      <td>Times Live, 12/26/2019</td>\n",
       "      <td>2019.12.26-Swinney.pdf</td>\n",
       "      <td>http://sharkattackfile.net/spreadsheets/pdf_di...</td>\n",
       "      <td>http://sharkattackfile.net/spreadsheets/pdf_di...</td>\n",
       "      <td>2019.12.26</td>\n",
       "      <td>2019.12.26</td>\n",
       "      <td>6490</td>\n",
       "      <td>NaN</td>\n",
       "      <td>NaN</td>\n",
       "    </tr>\n",
       "    <tr>\n",
       "      <th>3</th>\n",
       "      <td>2019.12.21</td>\n",
       "      <td>21-Dec-19</td>\n",
       "      <td>2019.0</td>\n",
       "      <td>Unprovoked</td>\n",
       "      <td>USA</td>\n",
       "      <td>California</td>\n",
       "      <td>Santa Rosa Island, Ventura County</td>\n",
       "      <td>Surfing</td>\n",
       "      <td>Adam Coons</td>\n",
       "      <td>M</td>\n",
       "      <td>...</td>\n",
       "      <td>NaN</td>\n",
       "      <td>R. Collier, GSAF</td>\n",
       "      <td>2019.12.21-Coons.pdf</td>\n",
       "      <td>http://sharkattackfile.net/spreadsheets/pdf_di...</td>\n",
       "      <td>http://sharkattackfile.net/spreadsheets/pdf_di...</td>\n",
       "      <td>2019.12.21</td>\n",
       "      <td>2019.12.21</td>\n",
       "      <td>6489</td>\n",
       "      <td>NaN</td>\n",
       "      <td>NaN</td>\n",
       "    </tr>\n",
       "    <tr>\n",
       "      <th>4</th>\n",
       "      <td>2019.12.20</td>\n",
       "      <td>20-Dec-19</td>\n",
       "      <td>2019.0</td>\n",
       "      <td>Provoked</td>\n",
       "      <td>AUSTRALIA</td>\n",
       "      <td>New South Wales</td>\n",
       "      <td>Shellharbour</td>\n",
       "      <td>Fishing</td>\n",
       "      <td>NaN</td>\n",
       "      <td>NaN</td>\n",
       "      <td>...</td>\n",
       "      <td>White shark</td>\n",
       "      <td>B. Myatt, GSAF</td>\n",
       "      <td>2019.12.20-Shellharbour.pdf</td>\n",
       "      <td>http://sharkattackfile.net/spreadsheets/pdf_di...</td>\n",
       "      <td>http://sharkattackfile.net/spreadsheets/pdf_di...</td>\n",
       "      <td>2019.12.20</td>\n",
       "      <td>2019.12.20</td>\n",
       "      <td>6488</td>\n",
       "      <td>NaN</td>\n",
       "      <td>NaN</td>\n",
       "    </tr>\n",
       "  </tbody>\n",
       "</table>\n",
       "<p>5 rows × 24 columns</p>\n",
       "</div>"
      ],
      "text/plain": [
       "  Case Number       Date    Year        Type       Country  \\\n",
       "0  2019.12.30  30-Dec-19  2019.0  Unprovoked     AUSTRALIA   \n",
       "1  2019.12.28  28-Dec-19  2019.0  Unprovoked    SEYCHELLES   \n",
       "2  2019.12.26  26-Dec-19  2019.0  Unprovoked  SOUTH AFRICA   \n",
       "3  2019.12.21  21-Dec-19  2019.0  Unprovoked           USA   \n",
       "4  2019.12.20  20-Dec-19  2019.0    Provoked     AUSTRALIA   \n",
       "\n",
       "                    Area                           Location      Activity  \\\n",
       "0             Queensland                  North West Island      Swimming   \n",
       "1                Praslin                      AmitiÃ© Beach      Swimming   \n",
       "2  Eastern Cape Province          Nahoon Beach, East London  Surf skiing    \n",
       "3             California  Santa Rosa Island, Ventura County       Surfing   \n",
       "4        New South Wales                       Shellharbour       Fishing   \n",
       "\n",
       "            Name Sex   ...                                         Species   \\\n",
       "0           male    M  ...  Shovelnose \"shark\" which is a ray, not a shark)   \n",
       "1         female    F  ...                                              NaN   \n",
       "2  Roger Swinney    M  ...                                              NaN   \n",
       "3     Adam Coons    M  ...                                              NaN   \n",
       "4            NaN  NaN  ...                                      White shark   \n",
       "\n",
       "   Investigator or Source                          pdf  \\\n",
       "0          B. Myatt, GSAF    2019.12.30-Queensland.pdf   \n",
       "1  Seychelles News Agency    2019.12.28-Seychelles.pdf   \n",
       "2  Times Live, 12/26/2019       2019.12.26-Swinney.pdf   \n",
       "3        R. Collier, GSAF         2019.12.21-Coons.pdf   \n",
       "4          B. Myatt, GSAF  2019.12.20-Shellharbour.pdf   \n",
       "\n",
       "                                        href formula  \\\n",
       "0  http://sharkattackfile.net/spreadsheets/pdf_di...   \n",
       "1  http://sharkattackfile.net/spreadsheets/pdf_di...   \n",
       "2  http://sharkattackfile.net/spreadsheets/pdf_di...   \n",
       "3  http://sharkattackfile.net/spreadsheets/pdf_di...   \n",
       "4  http://sharkattackfile.net/spreadsheets/pdf_di...   \n",
       "\n",
       "                                                href Case Number.1  \\\n",
       "0  http://sharkattackfile.net/spreadsheets/pdf_di...    2019.12.30   \n",
       "1  http://sharkattackfile.net/spreadsheets/pdf_di...    2019.12.28   \n",
       "2  http://sharkattackfile.net/spreadsheets/pdf_di...    2019.12.26   \n",
       "3  http://sharkattackfile.net/spreadsheets/pdf_di...    2019.12.21   \n",
       "4  http://sharkattackfile.net/spreadsheets/pdf_di...    2019.12.20   \n",
       "\n",
       "  Case Number.2 original order Unnamed: 22 Unnamed: 23  \n",
       "0    2019.12.30           6492         NaN         NaN  \n",
       "1    2019.12.28           6491         NaN         NaN  \n",
       "2    2019.12.26           6490         NaN         NaN  \n",
       "3    2019.12.21           6489         NaN         NaN  \n",
       "4    2019.12.20           6488         NaN         NaN  \n",
       "\n",
       "[5 rows x 24 columns]"
      ]
     },
     "execution_count": 2,
     "metadata": {},
     "output_type": "execute_result"
    }
   ],
   "source": [
    "shark_data=pd.read_csv(\"GSAF5.csv\", encoding = \"ISO-8859-1\")\n",
    "shark_data.head()"
   ]
  },
  {
   "cell_type": "code",
   "execution_count": 3,
   "metadata": {},
   "outputs": [],
   "source": [
    "# Selecting the columns\n",
    "col_to_keep = [\"Date\", \"Year\", \"Type\", \"Country\", \"Activity\", \"Fatal (Y/N)\"]\n",
    "shark_data = shark_data[col_to_keep]\n",
    "# Renaming columns names\n",
    "shark_data = shark_data.rename(columns={'Fatal (Y/N)': 'Fatal'})"
   ]
  },
  {
   "cell_type": "code",
   "execution_count": 4,
   "metadata": {},
   "outputs": [
    {
     "data": {
      "text/html": [
       "<div>\n",
       "<style scoped>\n",
       "    .dataframe tbody tr th:only-of-type {\n",
       "        vertical-align: middle;\n",
       "    }\n",
       "\n",
       "    .dataframe tbody tr th {\n",
       "        vertical-align: top;\n",
       "    }\n",
       "\n",
       "    .dataframe thead th {\n",
       "        text-align: right;\n",
       "    }\n",
       "</style>\n",
       "<table border=\"1\" class=\"dataframe\">\n",
       "  <thead>\n",
       "    <tr style=\"text-align: right;\">\n",
       "      <th></th>\n",
       "      <th>Date</th>\n",
       "      <th>Year</th>\n",
       "      <th>Type</th>\n",
       "      <th>Country</th>\n",
       "      <th>Activity</th>\n",
       "      <th>Fatal</th>\n",
       "    </tr>\n",
       "  </thead>\n",
       "  <tbody>\n",
       "    <tr>\n",
       "      <th>364</th>\n",
       "      <td>Reported 08-Jan-2017</td>\n",
       "      <td>NaN</td>\n",
       "      <td>Invalid</td>\n",
       "      <td>AUSTRALIA</td>\n",
       "      <td>Spearfishing</td>\n",
       "      <td>NaN</td>\n",
       "    </tr>\n",
       "    <tr>\n",
       "      <th>6268</th>\n",
       "      <td>Reported 19-Aug-1836</td>\n",
       "      <td>NaN</td>\n",
       "      <td>Unprovoked</td>\n",
       "      <td>ENGLAND</td>\n",
       "      <td>Swimming</td>\n",
       "      <td>Y</td>\n",
       "    </tr>\n",
       "  </tbody>\n",
       "</table>\n",
       "</div>"
      ],
      "text/plain": [
       "                      Date  Year        Type    Country      Activity Fatal\n",
       "364   Reported 08-Jan-2017   NaN     Invalid  AUSTRALIA  Spearfishing   NaN\n",
       "6268  Reported 19-Aug-1836   NaN  Unprovoked    ENGLAND      Swimming     Y"
      ]
     },
     "execution_count": 4,
     "metadata": {},
     "output_type": "execute_result"
    }
   ],
   "source": [
    "#Null year values \n",
    "shark_data[shark_data[\"Year\"].isnull()]"
   ]
  },
  {
   "cell_type": "code",
   "execution_count": 5,
   "metadata": {},
   "outputs": [
    {
     "data": {
      "text/plain": [
       "dtype('int64')"
      ]
     },
     "execution_count": 5,
     "metadata": {},
     "output_type": "execute_result"
    }
   ],
   "source": [
    "shark_data.loc[364, \"Year\"] = 2017\n",
    "shark_data.loc[6268,\"Year\"]=1836\n",
    "shark_data[\"Year\"] = shark_data[\"Year\"].astype(\"int\")\n",
    "shark_data[\"Year\"].dtype"
   ]
  },
  {
   "cell_type": "code",
   "execution_count": 6,
   "metadata": {},
   "outputs": [],
   "source": [
    "shark_data = shark_data[shark_data[\"Year\"] >= 1700]"
   ]
  },
  {
   "cell_type": "code",
   "execution_count": 7,
   "metadata": {},
   "outputs": [
    {
     "data": {
      "text/plain": [
       "N          4393\n",
       "Y          1336\n",
       "UNKNOWN     610\n",
       " N            7\n",
       "F             2\n",
       "Y x 2         1\n",
       "y             1\n",
       "N             1\n",
       "2017          1\n",
       "M             1\n",
       "Name: Fatal, dtype: int64"
      ]
     },
     "execution_count": 7,
     "metadata": {},
     "output_type": "execute_result"
    }
   ],
   "source": [
    "#Cleaning Fatal/Non-Fatal Data \n",
    "shark_data[\"Fatal\"] = shark_data[\"Fatal\"].fillna(\"UNKNOWN\")\n",
    "shark_data[\"Fatal\"].value_counts()"
   ]
  },
  {
   "cell_type": "code",
   "execution_count": 8,
   "metadata": {},
   "outputs": [
    {
     "data": {
      "text/plain": [
       "N          4401\n",
       "Y          1339\n",
       "UNKNOWN     613\n",
       "Name: Fatal, dtype: int64"
      ]
     },
     "execution_count": 8,
     "metadata": {},
     "output_type": "execute_result"
    }
   ],
   "source": [
    "shark_data.loc[shark_data[\"Fatal\"] == \" N\", \"Fatal\"] = \"N\"\n",
    "shark_data.loc[shark_data[\"Fatal\"] == \"n\", \"Fatal\"] = \"N\"\n",
    "shark_data.loc[shark_data[\"Fatal\"] == \"F\", \"Fatal\"] = \"Y\"\n",
    "shark_data.loc[shark_data[\"Fatal\"] == \"y\", \"Fatal\"] = \"Y\"\n",
    "shark_data.loc[shark_data[\"Fatal\"] == \"--M524--M3133Y\", \"Fatal\"] = \"UNKNOWN\"\n",
    "shark_data.loc[shark_data[\"Fatal\"] == \"Y x 2\", \"Fatal\"] = \"UNKNOWN\"\n",
    "shark_data.loc[shark_data[\"Fatal\"] == \"2017\", \"Fatal\"] = \"UNKNOWN\"\n",
    "shark_data.loc[shark_data[\"Fatal\"] == \"M\", \"Fatal\"] = \"UNKNOWN\"\n",
    "shark_data.loc[shark_data[\"Fatal\"] == \"N \", \"Fatal\"] = \"N\"\n",
    "shark_data[\"Fatal\"].value_counts()"
   ]
  },
  {
   "cell_type": "code",
   "execution_count": 9,
   "metadata": {},
   "outputs": [
    {
     "data": {
      "text/plain": [
       "United States                     2308\n",
       "Australia                         1359\n",
       "South Africa                       577\n",
       "Papua New Guinea                   146\n",
       "New Zealand                        132\n",
       "Bahamas                            118\n",
       "Brazil                             114\n",
       "Mexico                              95\n",
       "Italy                               70\n",
       "Fiji                                63\n",
       "Philippines                         62\n",
       "Reunion                             58\n",
       "New Caledonia                       55\n",
       "Unknown                             45\n",
       "Cuba                                45\n",
       "Mozambique                          44\n",
       "Egypt                               43\n",
       "Spain                               43\n",
       "United Kingdom                      42\n",
       "India                               35\n",
       "Croatia                             34\n",
       "Japan                               34\n",
       "Panama                              30\n",
       "Jamaica                             28\n",
       "Solomon Islands                     28\n",
       "French Polynesia                    27\n",
       "Iran                                25\n",
       "Hong Kong                           24\n",
       "Indonesia                           22\n",
       "Greece                              19\n",
       "                                  ... \n",
       "Egypt / Israel                       1\n",
       "Federated States Of Micronesia       1\n",
       "Monaco                               1\n",
       "Gulf Of Aden                         1\n",
       "Aruba                                1\n",
       "Palestinian Territories              1\n",
       "Northern Mariana Islands             1\n",
       "North Sea                            1\n",
       "Cyprus                               1\n",
       "Mid-Pacifc Ocean                     1\n",
       "Cook Islands                         1\n",
       "Tasman Sea                           1\n",
       "Gabon                                1\n",
       "Slovenia                             1\n",
       "Italy / Croatia                      1\n",
       "British West Indies                  1\n",
       "Peru                                 1\n",
       "Solomon Islands / Vanuatu            1\n",
       "Nevis                                1\n",
       "Coast Of Africa                      1\n",
       "South China Sea                      1\n",
       "Comoros                              1\n",
       "Greenland                            1\n",
       "Maldive Islands                      1\n",
       "British Virgin Islands               1\n",
       "Guatemala                            1\n",
       "Andaman / Nicobar Islandas           1\n",
       "British Isles                        1\n",
       "Africa                               1\n",
       "Curacao                              1\n",
       "Name: Country, Length: 187, dtype: int64"
      ]
     },
     "execution_count": 9,
     "metadata": {},
     "output_type": "execute_result"
    }
   ],
   "source": [
    "#Cleaning Countires \n",
    "shark_data[\"Country\"] = shark_data[\"Country\"].fillna(\"UNKNOWN\")\n",
    "shark_data[\"Country\"] = shark_data[\"Country\"].fillna(\"UNKNOWN\")\n",
    "shark_data[\"Country\"] = shark_data[\"Country\"].str.rstrip()\n",
    "shark_data[\"Country\"] = shark_data[\"Country\"].str.lstrip()\n",
    "shark_data[\"Country\"] = shark_data[\"Country\"].str.replace(\"USA\",\"United States\")\n",
    "shark_data[\"Country\"] = shark_data[\"Country\"].str.replace(\"ST. MAARTIN\",\"SAINT MARTIN\")\n",
    "shark_data[\"Country\"] = shark_data[\"Country\"].str.replace(\"ST. MARTIN\",\"SAINT MARTIN\")\n",
    "shark_data[\"Country\"] = shark_data[\"Country\"].str.replace(\"COLUMBIA\",\"Colombia\")\n",
    "shark_data[\"Country\"] = shark_data[\"Country\"].str.replace(\"UNITED ARAB EMIRATES \\(UAE\\)\",\"United Arab Emirates\")\n",
    "shark_data[\"Country\"] = shark_data[\"Country\"].str.replace(\"ENGLAND\",\"United Kingdom\")\n",
    "shark_data[\"Country\"] = shark_data[\"Country\"].str.replace(\"SCOTLAND\",\"United Kingdom\")\n",
    "shark_data[\"Country\"] = shark_data[\"Country\"].str.replace(\"(.*)\\?\",\"UNKNOWN\")\n",
    "shark_data[\"Country\"] = shark_data[\"Country\"].str.title()\n",
    "shark_data[\"Country\"] = shark_data[\"Country\"].str.replace(\"Trinidad & Tobago\",\"Trinidad and Tobago\")\n",
    "shark_data[\"Country\"] = shark_data[\"Country\"].str.replace(\"^(New Guinea)\",\"Papua New Guinea\")\n",
    "shark_data[\"Country\"] = shark_data[\"Country\"].str.replace(\"New Britain\",\"Papua New Guinea\")\n",
    "shark_data[\"Country\"].value_counts()"
   ]
  },
  {
   "cell_type": "code",
   "execution_count": 10,
   "metadata": {},
   "outputs": [],
   "source": [
    "#Activities \n",
    "shark_data[\"Activity\"].fillna(\"UNKNOWN\")\n",
    "\n",
    "\n",
    "def code_act(a):\n",
    "    if isinstance(a, str):\n",
    "        a = a.lower()\n",
    "        if 'surfing' in a:\n",
    "            return \"Surfing\"\n",
    "        elif 'swimming' in a:\n",
    "            return \"Swimming\"\n",
    "        elif 'fishing' in a:\n",
    "            return \"Fishing\"\n",
    "        elif 'bathing' in a:\n",
    "            return \"Bathing\"\n",
    "        elif 'wading' in a:\n",
    "            return \"Wading\"\n",
    "        elif 'diving' in a:\n",
    "            return \"Diving\"\n",
    "        else:\n",
    "            return \"Other\"\n",
    "    else:\n",
    "        return \"Other\"\n",
    "shark_data[\"Activity\"] = shark_data[\"Activity\"].apply(lambda x: code_act(x))"
   ]
  },
  {
   "cell_type": "code",
   "execution_count": 11,
   "metadata": {},
   "outputs": [],
   "source": [
    "import dateparser\n",
    "#Cleaning Date Column \n",
    "shark = shark_data[\"Date\"].astype(\"str\")\n",
    "shark_data[\"Date\"] = shark_data[\"Date\"].str.replace(\"Reported\", \"\")\n",
    "shark_data[\"Date\"] = shark_data[\"Date\"].str.replace(\"[rR]eport.*d\", \"\")\n",
    "shark_data[\"Date\"] = shark_data[\"Date\"].str.replace(\"\\.b\", \"\")\n",
    "shark_data[\"Date\"] = shark_data[\"Date\"].str.replace(\"\\.R\", \"\")\n",
    "shark_data[\"Date\"] = shark_data[\"Date\"].str.replace(\"\\.\", \"-\")\n",
    "shark_data[\"Date\"] = shark_data[\"Date\"].str.replace(\"190Feb\", \"19-Feb\")\n",
    "shark_data[\"Date\"] = shark_data[\"Date\"].str.replace(\"Late \", \"\")\n",
    "shark_data[\"Date\"] = shark_data[\"Date\"].str.replace(\"Early \", \"-\")\n",
    "shark_data[\"Date\"] = shark_data[\"Date\"].str.replace(\"Mid.\", \"15-\")\n",
    "shark_data[\"Date\"] = shark_data[\"Date\"].str.replace(\"-Ap-\", \"-Apr-\")\n",
    "shark_data[\"Date\"] = shark_data[\"Date\"].str.replace(\"-Jut-\", \"-Jul-\")\n",
    "shark_data[\"Date\"] = shark_data[\"Date\"].str.replace(\"23-Decp1896\", \"23-Dec-1896\")\n",
    "shark_data[\"Date\"] = shark_data[\"Date\"].str.replace(\"Ca.\", \"\")\n",
    "shark_data[\"Date\"] = shark_data[\"Date\"].str.replace(\"Jan 1858\", \"Jan\")\n",
    "shark_data[\"Date\"] = shark_data[\"Date\"].str.replace(\"to Sep\", \"Sep\")\n",
    "shark_data[\"Date\"] = shark_data[\"Date\"].str.replace(\"March\", \"Mar\")\n",
    "shark_data[\"Date\"] = shark_data[\"Date\"].str.replace(\"April 1906\", \"Apr\")\n",
    "shark_data[\"Date\"] = shark_data[\"Date\"].str.replace(\"May 1871\", \"May\")\n",
    "shark_data[\"Date\"] = shark_data[\"Date\"].str.replace(\"Dec 1944\", \"Dec\")\n",
    "shark_data[\"Date\"] = shark_data[\"Date\"].str.replace(\"Jan 2011\", \"Jan\")\n",
    "shark_data[\"Date\"] = shark_data[\"Date\"].str.replace(\"1949 or Apr\", \"Apr\")\n",
    "shark_data[\"Date\"] = shark_data[\"Date\"].str.replace(\" Jan\", \"Jan\")\n",
    "shark_data[\"Date\"] = shark_data[\"Date\"].str.replace(\"May 1927\", \"May\")\n",
    "shark_data[\"Date\"] = shark_data[\"Date\"].str.replace(\"Sept\", \"Sep\")\n",
    "shark_data[\"Date\"] = shark_data[\"Date\"].str.replace(\" Sep\", \"Sep\")\n",
    "\n",
    "shark_data[\"Date\"] = shark_data[\"Date\"].str.lstrip()\n",
    "shark_data[\"Date\"] = shark_data[\"Date\"].str.rstrip()"
   ]
  },
  {
   "cell_type": "code",
   "execution_count": 12,
   "metadata": {},
   "outputs": [
    {
     "data": {
      "text/html": [
       "<div>\n",
       "<style scoped>\n",
       "    .dataframe tbody tr th:only-of-type {\n",
       "        vertical-align: middle;\n",
       "    }\n",
       "\n",
       "    .dataframe tbody tr th {\n",
       "        vertical-align: top;\n",
       "    }\n",
       "\n",
       "    .dataframe thead th {\n",
       "        text-align: right;\n",
       "    }\n",
       "</style>\n",
       "<table border=\"1\" class=\"dataframe\">\n",
       "  <thead>\n",
       "    <tr style=\"text-align: right;\">\n",
       "      <th></th>\n",
       "      <th>Date</th>\n",
       "      <th>Year</th>\n",
       "      <th>Type</th>\n",
       "      <th>Country</th>\n",
       "      <th>Activity</th>\n",
       "      <th>Fatal</th>\n",
       "    </tr>\n",
       "  </thead>\n",
       "  <tbody>\n",
       "    <tr>\n",
       "      <th>0</th>\n",
       "      <td>30-Dec-19</td>\n",
       "      <td>2019</td>\n",
       "      <td>Unprovoked</td>\n",
       "      <td>Australia</td>\n",
       "      <td>Swimming</td>\n",
       "      <td>N</td>\n",
       "    </tr>\n",
       "    <tr>\n",
       "      <th>1</th>\n",
       "      <td>28-Dec-19</td>\n",
       "      <td>2019</td>\n",
       "      <td>Unprovoked</td>\n",
       "      <td>Seychelles</td>\n",
       "      <td>Swimming</td>\n",
       "      <td>N</td>\n",
       "    </tr>\n",
       "    <tr>\n",
       "      <th>2</th>\n",
       "      <td>26-Dec-19</td>\n",
       "      <td>2019</td>\n",
       "      <td>Unprovoked</td>\n",
       "      <td>South Africa</td>\n",
       "      <td>Other</td>\n",
       "      <td>N</td>\n",
       "    </tr>\n",
       "    <tr>\n",
       "      <th>3</th>\n",
       "      <td>21-Dec-19</td>\n",
       "      <td>2019</td>\n",
       "      <td>Unprovoked</td>\n",
       "      <td>United States</td>\n",
       "      <td>Surfing</td>\n",
       "      <td>N</td>\n",
       "    </tr>\n",
       "    <tr>\n",
       "      <th>4</th>\n",
       "      <td>20-Dec-19</td>\n",
       "      <td>2019</td>\n",
       "      <td>Provoked</td>\n",
       "      <td>Australia</td>\n",
       "      <td>Fishing</td>\n",
       "      <td>UNKNOWN</td>\n",
       "    </tr>\n",
       "  </tbody>\n",
       "</table>\n",
       "</div>"
      ],
      "text/plain": [
       "        Date  Year        Type        Country  Activity    Fatal\n",
       "0  30-Dec-19  2019  Unprovoked      Australia  Swimming        N\n",
       "1  28-Dec-19  2019  Unprovoked     Seychelles  Swimming        N\n",
       "2  26-Dec-19  2019  Unprovoked   South Africa     Other        N\n",
       "3  21-Dec-19  2019  Unprovoked  United States   Surfing        N\n",
       "4  20-Dec-19  2019    Provoked      Australia   Fishing  UNKNOWN"
      ]
     },
     "execution_count": 12,
     "metadata": {},
     "output_type": "execute_result"
    }
   ],
   "source": [
    "shark_data.head()"
   ]
  },
  {
   "cell_type": "code",
   "execution_count": 13,
   "metadata": {
    "scrolled": true
   },
   "outputs": [],
   "source": [
    "shark_data = shark_data[shark_data[\"Date\"].notnull()]\n"
   ]
  },
  {
   "cell_type": "code",
   "execution_count": 14,
   "metadata": {
    "scrolled": true
   },
   "outputs": [
    {
     "data": {
      "text/html": [
       "<div>\n",
       "<style scoped>\n",
       "    .dataframe tbody tr th:only-of-type {\n",
       "        vertical-align: middle;\n",
       "    }\n",
       "\n",
       "    .dataframe tbody tr th {\n",
       "        vertical-align: top;\n",
       "    }\n",
       "\n",
       "    .dataframe thead th {\n",
       "        text-align: right;\n",
       "    }\n",
       "</style>\n",
       "<table border=\"1\" class=\"dataframe\">\n",
       "  <thead>\n",
       "    <tr style=\"text-align: right;\">\n",
       "      <th></th>\n",
       "      <th>Year</th>\n",
       "      <th>Type</th>\n",
       "      <th>Country</th>\n",
       "      <th>Activity</th>\n",
       "      <th>Fatal</th>\n",
       "      <th>Day</th>\n",
       "      <th>Month</th>\n",
       "      <th>Abbrv_year</th>\n",
       "    </tr>\n",
       "  </thead>\n",
       "  <tbody>\n",
       "    <tr>\n",
       "      <th>0</th>\n",
       "      <td>2019</td>\n",
       "      <td>Unprovoked</td>\n",
       "      <td>Australia</td>\n",
       "      <td>Swimming</td>\n",
       "      <td>N</td>\n",
       "      <td>30</td>\n",
       "      <td>Dec</td>\n",
       "      <td>19</td>\n",
       "    </tr>\n",
       "    <tr>\n",
       "      <th>1</th>\n",
       "      <td>2019</td>\n",
       "      <td>Unprovoked</td>\n",
       "      <td>Seychelles</td>\n",
       "      <td>Swimming</td>\n",
       "      <td>N</td>\n",
       "      <td>28</td>\n",
       "      <td>Dec</td>\n",
       "      <td>19</td>\n",
       "    </tr>\n",
       "    <tr>\n",
       "      <th>2</th>\n",
       "      <td>2019</td>\n",
       "      <td>Unprovoked</td>\n",
       "      <td>South Africa</td>\n",
       "      <td>Other</td>\n",
       "      <td>N</td>\n",
       "      <td>26</td>\n",
       "      <td>Dec</td>\n",
       "      <td>19</td>\n",
       "    </tr>\n",
       "    <tr>\n",
       "      <th>3</th>\n",
       "      <td>2019</td>\n",
       "      <td>Unprovoked</td>\n",
       "      <td>United States</td>\n",
       "      <td>Surfing</td>\n",
       "      <td>N</td>\n",
       "      <td>21</td>\n",
       "      <td>Dec</td>\n",
       "      <td>19</td>\n",
       "    </tr>\n",
       "    <tr>\n",
       "      <th>4</th>\n",
       "      <td>2019</td>\n",
       "      <td>Provoked</td>\n",
       "      <td>Australia</td>\n",
       "      <td>Fishing</td>\n",
       "      <td>UNKNOWN</td>\n",
       "      <td>20</td>\n",
       "      <td>Dec</td>\n",
       "      <td>19</td>\n",
       "    </tr>\n",
       "  </tbody>\n",
       "</table>\n",
       "</div>"
      ],
      "text/plain": [
       "   Year        Type        Country  Activity    Fatal Day Month Abbrv_year\n",
       "0  2019  Unprovoked      Australia  Swimming        N  30   Dec         19\n",
       "1  2019  Unprovoked     Seychelles  Swimming        N  28   Dec         19\n",
       "2  2019  Unprovoked   South Africa     Other        N  26   Dec         19\n",
       "3  2019  Unprovoked  United States   Surfing        N  21   Dec         19\n",
       "4  2019    Provoked      Australia   Fishing  UNKNOWN  20   Dec         19"
      ]
     },
     "execution_count": 14,
     "metadata": {},
     "output_type": "execute_result"
    }
   ],
   "source": [
    "shark_data=pd.concat([shark_data.drop('Date', axis = 1), \n",
    "          (shark_data.Date.str.split(\"-|T\").str[:3].apply(pd.Series)\n",
    "          .rename(columns={0:'Day', 1:'Month', 2:'Abbrv_year'}))], axis = 1)\n",
    "shark_data.head()"
   ]
  },
  {
   "cell_type": "code",
   "execution_count": 15,
   "metadata": {},
   "outputs": [],
   "source": [
    "shark_data = shark_data[shark_data[\"Month\"].notnull()]\n"
   ]
  },
  {
   "cell_type": "code",
   "execution_count": 16,
   "metadata": {
    "scrolled": true
   },
   "outputs": [
    {
     "data": {
      "text/plain": [
       "array(['Dec', 'Nov', 'Oct', 'Sep', 'Aug', 'Jul', 'Jun', 'May', 'Apr',\n",
       "       'Mar', 'Feb', 'Jan', '1018', '18', '17', '06', '16', '15', '14',\n",
       "       '12', '13', '10', '09', '08', '2008', '01', '11', '07', '04', '03',\n",
       "       '2003', '02', '00', '99', '98', '96', '95', '94', '93', '1993',\n",
       "       '92', '91', '89', '88', '87', '86', '85', '84', '83', '82', '1982',\n",
       "       '81', '1980', '80', '79', '1978`', '77', '76', '75', '74', '73',\n",
       "       '72', '1971', '70', '1970', '69', '68', '67', '66', '65', '1965',\n",
       "       '64', '63', '1963', '62', '1962', '61', '60', 'summer 1960',\n",
       "       '1961', '59', '1959', '58', '57', '56', '55', '54', '53', '52',\n",
       "       '1954', '51', '50', ' 1951', '49', '1950', '48', '47', '46', '45',\n",
       "       '44', '1944', '43', '42', '41', '40', '36', '35', '34', '32', '30',\n",
       "       '28', '1928', '27', '26', '25', '23', '1924', '21', '1905', '05',\n",
       "       ' 22', '1900', '1900s', '1898', 'American War)', '1899', '1895',\n",
       "       '1889', '1888', '1886', '1882', '1870s', ' or Dec', '1871', '1867',\n",
       "       '1864', '1863', '1861', '1860', '1853', '1852', '1851', '1848',\n",
       "       '1840', '1837', '1827', '1826', ' 1825', '24', '1805', '1803'],\n",
       "      dtype=object)"
      ]
     },
     "execution_count": 16,
     "metadata": {},
     "output_type": "execute_result"
    }
   ],
   "source": [
    "shark_data[\"Month\"].unique()"
   ]
  },
  {
   "cell_type": "code",
   "execution_count": 17,
   "metadata": {},
   "outputs": [],
   "source": [
    "def get_month(month):\n",
    "    m = ['Jan', 'Feb', 'Mar', 'Apr', 'May', 'Jun', 'Jul', 'Aug', 'Sep', 'Oct', 'Nov', 'Dec']\n",
    "    if month in m:\n",
    "        return month\n",
    "    else:\n",
    "        return \"other\"\n",
    "\n",
    "shark_data[\"Months\"] = shark_data[\"Month\"].apply(lambda x: get_month(x))"
   ]
  },
  {
   "cell_type": "code",
   "execution_count": 20,
   "metadata": {},
   "outputs": [
    {
     "data": {
      "text/plain": [
       "array(['Dec', 'Nov', 'Oct', 'Sep', 'Aug', 'Jul', 'Jun', 'May', 'Apr',\n",
       "       'Mar', 'Feb', 'Jan', 'other'], dtype=object)"
      ]
     },
     "execution_count": 20,
     "metadata": {},
     "output_type": "execute_result"
    }
   ],
   "source": [
    "shark_data[\"Months\"].unique()"
   ]
  },
  {
   "cell_type": "code",
   "execution_count": 21,
   "metadata": {},
   "outputs": [],
   "source": [
    "#Hemispheres \n",
    "def get_hemisphere(country):\n",
    "    southern_hemisphere = [\n",
    "    \"South Africa\", \"Reunion\", \"Mozambique\", \"Tanzania\", \"Mauritius\", \"Seychelles\", \n",
    "    \"Madagascar\", \"Namibia\", \"Mayotte\", \"Gabon\", \"Indonesia\", \"Brazil\", \"Ecuador\", \n",
    "    \"Argentina\", \"Chile\", \"Paraguay\", \"Uruguay\", \"Australia\", \"Papua New Guinea\",\n",
    "    \"Fiji\", \"Papua New Guinea\", \"British New Guinea\", \"South Atlantic Ocean\", \"Indian Ocean\", \n",
    "    \"South Pacific Ocean\", \"Tasman Sea\",\"Solomon Islands / Vanuatu\"]\n",
    "    if country in southern_hemisphere:\n",
    "        return \"S\"\n",
    "    if country == \"Unknown\":\n",
    "        return np.nan\n",
    "    else:\n",
    "        return \"N\"\n",
    "\n",
    "shark_data[\"Hemisphere\"] = shark_data[\"Country\"].apply(lambda x: get_hemisphere(x))"
   ]
  },
  {
   "cell_type": "code",
   "execution_count": null,
   "metadata": {},
   "outputs": [],
   "source": []
  },
  {
   "cell_type": "code",
   "execution_count": 22,
   "metadata": {},
   "outputs": [
    {
     "data": {
      "text/plain": [
       "[Text(0, 0.5, ''), Text(0.5, 0, 'Month')]"
      ]
     },
     "execution_count": 22,
     "metadata": {},
     "output_type": "execute_result"
    },
    {
     "data": {
      "image/png": "[encoded data removed]",
      "text/plain": [
       "<Figure size 1296x1152 with 2 Axes>"
      ]
     },
     "metadata": {
      "needs_background": "light"
     },
     "output_type": "display_data"
    }
   ],
   "source": [
    "#Attacks by month, northern vs southern hemisphere \n",
    "fig = plt.figure(figsize=(18, 16))\n",
    "ax1 = plt.subplot(211)\n",
    "plt.title(\"Shark Attack In The Northern Hemisphere\")\n",
    "ax2 = plt.subplot(212)\n",
    "plt.title(\"Shark Attack In The Southern Hemisphere\")\n",
    "\n",
    "\n",
    "p = sns.countplot(x=\"Months\", data=shark_data[shark_data[\"Hemisphere\"] == \"N\"], label=\"Total Shark Attack\", color=\"teal\", ax=ax1)\n",
    "g = sns.countplot(x=\"Months\", data=shark_data[(shark_data[\"Hemisphere\"] == \"N\") & (shark_data[\"Fatal\"] == \"Y\")], \n",
    "                  label=\"Fatal Shark Attack\", color=\"maroon\", ax=ax1)\n",
    "\n",
    "v = sns.countplot(x=\"Months\", data=shark_data[shark_data[\"Hemisphere\"] == \"S\"], label=\"Total Shark Attack\", color=\"teal\", ax=ax2)\n",
    "d = sns.countplot(x=\"Months\", data=shark_data[(shark_data[\"Hemisphere\"] == \"S\") & (shark_data[\"Fatal\"] == \"Y\")], \n",
    "                  label=\"Fatal Shark Attack\", color=\"maroon\", ax=ax2)\n",
    "\n",
    "m = ['Jan', 'Feb', 'Mar', 'Apr', 'May', 'Jun', 'Jul', 'Aug', 'Sep', 'Oct', 'Nov', 'Dec','other']\n",
    "\n",
    "\n",
    "ax1.legend(ncol=2, loc=\"upper left\", frameon=False)\n",
    "ax2.legend(ncol=2, loc=\"upper right\", frameon=False)\n",
    "p.set_xticklabels(m)\n",
    "v.set_xticklabels(m)\n",
    "ax1.set(ylabel=\"\", xlabel=\"Month\")\n",
    "ax2.set(ylabel=\"\", xlabel=\"Month\")"
   ]
  },
  {
   "cell_type": "code",
   "execution_count": 23,
   "metadata": {},
   "outputs": [
    {
     "data": {
      "text/plain": [
       "[Text(0, 0.5, ''), Text(0.5, 0, 'Year')]"
      ]
     },
     "execution_count": 23,
     "metadata": {},
     "output_type": "execute_result"
    },
    {
     "data": {
      "image/png": "[encoded data removed]",
      "text/plain": [
       "<Figure size 1296x576 with 1 Axes>"
      ]
     },
     "metadata": {
      "needs_background": "light"
     },
     "output_type": "display_data"
    }
   ],
   "source": [
    "# Shark attacks since 1950 \n",
    "fig, ax = plt.subplots(figsize=(18, 8))\n",
    "plt.title(\"Evolution of Shark Attacks Since 1950\")\n",
    "p = sns.countplot(x=\"Year\", data=shark_data[shark_data[\"Year\"] >= 1950], label=\"Total Shark Attacks\", color=\"r\")\n",
    "g = sns.countplot(x=\"Year\", data=shark_data[(shark_data[\"Year\"] >= 1950) & (shark_data[\"Fatal\"] == \"N\")], \n",
    "                  label=\"Non-Fatal Shark Attacks\", color=\"darkslateblue\")\n",
    "ax.legend(ncol=2, loc=\"upper left\", frameon=False)\n",
    "p.set_xticklabels(p.get_xticklabels(), rotation=90)\n",
    "ax.set(ylabel=\"\", xlabel=\"Year\")"
   ]
  },
  {
   "cell_type": "code",
   "execution_count": 39,
   "metadata": {},
   "outputs": [
    {
     "data": {
      "text/plain": [
       "[Text(0, 0.5, ''), Text(0.5, 0, '')]"
      ]
     },
     "execution_count": 39,
     "metadata": {},
     "output_type": "execute_result"
    },
    {
     "data": {
      "image/png": "[encoded data removed]",
      "text/plain": [
       "<Figure size 1296x1296 with 3 Axes>"
      ]
     },
     "metadata": {},
     "output_type": "display_data"
    }
   ],
   "source": [
    "\n",
    "fig = plt.figure(figsize=(18, 18))\n",
    "ax1 = plt.subplot2grid((3,3), (0,0), colspan=2)\n",
    "plt.title('Countries With Most People Attacked By Sharks')\n",
    "ax2 = plt.subplot2grid((3,3), (0,2))\n",
    "plt.title('Total attacks by Hemisphere')\n",
    "ax3 = plt.subplot2grid((3,3), (1,0), colspan=2)\n",
    "plt.title('Victims Activities During Attacks')\n",
    "\n",
    "\n",
    "g1 = sns.countplot(x=\"Country\", data=shark_data, palette=\"deep\", order=shark_data.Country.value_counts().iloc[:3].index, ax=ax1)\n",
    "g2 = sns.countplot(x=\"Hemisphere\", data=shark_data, palette=\"deep\", ax=ax2)\n",
    "g3 = sns.countplot(x=\"Activity\", data=shark_data, palette=\"deep\", ax=ax3)\n",
    "\n",
    "\n",
    "sns.despine(left=True, bottom=True)\n",
    "ax1.set(ylabel=\"\", xlabel=\"\")\n",
    "ax2.set(ylabel=\"\", xlabel=\"\")\n",
    "ax2.set_xticklabels([\"Northern\", \"Southern\"])\n",
    "ax3.set(ylabel=\"\", xlabel=\"\")"
   ]
  },
  {
   "cell_type": "code",
   "execution_count": null,
   "metadata": {},
   "outputs": [],
   "source": []
  },
  {
   "cell_type": "code",
   "execution_count": null,
   "metadata": {},
   "outputs": [],
   "source": []
  }
 ],
 "metadata": {
  "kernelspec": {
   "display_name": "Python 3",
   "language": "python",
   "name": "python3"
  },
  "language_info": {
   "codemirror_mode": {
    "name": "ipython",
    "version": 3
   },
   "file_extension": ".py",
   "mimetype": "text/x-python",
   "name": "python",
   "nbconvert_exporter": "python",
   "pygments_lexer": "ipython3",
   "version": "3.7.3"
  }
 },
 "nbformat": 4,
 "nbformat_minor": 2
}
